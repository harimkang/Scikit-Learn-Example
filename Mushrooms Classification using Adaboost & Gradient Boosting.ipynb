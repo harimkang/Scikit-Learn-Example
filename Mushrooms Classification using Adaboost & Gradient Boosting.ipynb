{
 "cells": [
  {
   "cell_type": "markdown",
   "metadata": {},
   "source": [
    "# Mushrooms Classification using Adaboost & Gradient Boosting"
   ]
  },
  {
   "cell_type": "markdown",
   "metadata": {},
   "source": [
    "## Step 1. Select Dataset"
   ]
  },
  {
   "cell_type": "code",
   "execution_count": 1,
   "metadata": {},
   "outputs": [
    {
     "data": {
      "text/html": [
       "<div>\n",
       "<style scoped>\n",
       "    .dataframe tbody tr th:only-of-type {\n",
       "        vertical-align: middle;\n",
       "    }\n",
       "\n",
       "    .dataframe tbody tr th {\n",
       "        vertical-align: top;\n",
       "    }\n",
       "\n",
       "    .dataframe thead th {\n",
       "        text-align: right;\n",
       "    }\n",
       "</style>\n",
       "<table border=\"1\" class=\"dataframe\">\n",
       "  <thead>\n",
       "    <tr style=\"text-align: right;\">\n",
       "      <th></th>\n",
       "      <th>class</th>\n",
       "      <th>cap-shape</th>\n",
       "      <th>cap-surface</th>\n",
       "      <th>cap-color</th>\n",
       "      <th>bruises</th>\n",
       "      <th>odor</th>\n",
       "      <th>gill-attachment</th>\n",
       "      <th>gill-spacing</th>\n",
       "      <th>gill-size</th>\n",
       "      <th>gill-color</th>\n",
       "      <th>...</th>\n",
       "      <th>stalk-surface-below-ring</th>\n",
       "      <th>stalk-color-above-ring</th>\n",
       "      <th>stalk-color-below-ring</th>\n",
       "      <th>veil-type</th>\n",
       "      <th>veil-color</th>\n",
       "      <th>ring-number</th>\n",
       "      <th>ring-type</th>\n",
       "      <th>spore-print-color</th>\n",
       "      <th>population</th>\n",
       "      <th>habitat</th>\n",
       "    </tr>\n",
       "  </thead>\n",
       "  <tbody>\n",
       "    <tr>\n",
       "      <th>0</th>\n",
       "      <td>p</td>\n",
       "      <td>x</td>\n",
       "      <td>s</td>\n",
       "      <td>n</td>\n",
       "      <td>t</td>\n",
       "      <td>p</td>\n",
       "      <td>f</td>\n",
       "      <td>c</td>\n",
       "      <td>n</td>\n",
       "      <td>k</td>\n",
       "      <td>...</td>\n",
       "      <td>s</td>\n",
       "      <td>w</td>\n",
       "      <td>w</td>\n",
       "      <td>p</td>\n",
       "      <td>w</td>\n",
       "      <td>o</td>\n",
       "      <td>p</td>\n",
       "      <td>k</td>\n",
       "      <td>s</td>\n",
       "      <td>u</td>\n",
       "    </tr>\n",
       "    <tr>\n",
       "      <th>1</th>\n",
       "      <td>e</td>\n",
       "      <td>x</td>\n",
       "      <td>s</td>\n",
       "      <td>y</td>\n",
       "      <td>t</td>\n",
       "      <td>a</td>\n",
       "      <td>f</td>\n",
       "      <td>c</td>\n",
       "      <td>b</td>\n",
       "      <td>k</td>\n",
       "      <td>...</td>\n",
       "      <td>s</td>\n",
       "      <td>w</td>\n",
       "      <td>w</td>\n",
       "      <td>p</td>\n",
       "      <td>w</td>\n",
       "      <td>o</td>\n",
       "      <td>p</td>\n",
       "      <td>n</td>\n",
       "      <td>n</td>\n",
       "      <td>g</td>\n",
       "    </tr>\n",
       "    <tr>\n",
       "      <th>2</th>\n",
       "      <td>e</td>\n",
       "      <td>b</td>\n",
       "      <td>s</td>\n",
       "      <td>w</td>\n",
       "      <td>t</td>\n",
       "      <td>l</td>\n",
       "      <td>f</td>\n",
       "      <td>c</td>\n",
       "      <td>b</td>\n",
       "      <td>n</td>\n",
       "      <td>...</td>\n",
       "      <td>s</td>\n",
       "      <td>w</td>\n",
       "      <td>w</td>\n",
       "      <td>p</td>\n",
       "      <td>w</td>\n",
       "      <td>o</td>\n",
       "      <td>p</td>\n",
       "      <td>n</td>\n",
       "      <td>n</td>\n",
       "      <td>m</td>\n",
       "    </tr>\n",
       "    <tr>\n",
       "      <th>3</th>\n",
       "      <td>p</td>\n",
       "      <td>x</td>\n",
       "      <td>y</td>\n",
       "      <td>w</td>\n",
       "      <td>t</td>\n",
       "      <td>p</td>\n",
       "      <td>f</td>\n",
       "      <td>c</td>\n",
       "      <td>n</td>\n",
       "      <td>n</td>\n",
       "      <td>...</td>\n",
       "      <td>s</td>\n",
       "      <td>w</td>\n",
       "      <td>w</td>\n",
       "      <td>p</td>\n",
       "      <td>w</td>\n",
       "      <td>o</td>\n",
       "      <td>p</td>\n",
       "      <td>k</td>\n",
       "      <td>s</td>\n",
       "      <td>u</td>\n",
       "    </tr>\n",
       "    <tr>\n",
       "      <th>4</th>\n",
       "      <td>e</td>\n",
       "      <td>x</td>\n",
       "      <td>s</td>\n",
       "      <td>g</td>\n",
       "      <td>f</td>\n",
       "      <td>n</td>\n",
       "      <td>f</td>\n",
       "      <td>w</td>\n",
       "      <td>b</td>\n",
       "      <td>k</td>\n",
       "      <td>...</td>\n",
       "      <td>s</td>\n",
       "      <td>w</td>\n",
       "      <td>w</td>\n",
       "      <td>p</td>\n",
       "      <td>w</td>\n",
       "      <td>o</td>\n",
       "      <td>e</td>\n",
       "      <td>n</td>\n",
       "      <td>a</td>\n",
       "      <td>g</td>\n",
       "    </tr>\n",
       "  </tbody>\n",
       "</table>\n",
       "<p>5 rows × 23 columns</p>\n",
       "</div>"
      ],
      "text/plain": [
       "  class cap-shape cap-surface cap-color bruises odor gill-attachment  \\\n",
       "0     p         x           s         n       t    p               f   \n",
       "1     e         x           s         y       t    a               f   \n",
       "2     e         b           s         w       t    l               f   \n",
       "3     p         x           y         w       t    p               f   \n",
       "4     e         x           s         g       f    n               f   \n",
       "\n",
       "  gill-spacing gill-size gill-color  ... stalk-surface-below-ring  \\\n",
       "0            c         n          k  ...                        s   \n",
       "1            c         b          k  ...                        s   \n",
       "2            c         b          n  ...                        s   \n",
       "3            c         n          n  ...                        s   \n",
       "4            w         b          k  ...                        s   \n",
       "\n",
       "  stalk-color-above-ring stalk-color-below-ring veil-type veil-color  \\\n",
       "0                      w                      w         p          w   \n",
       "1                      w                      w         p          w   \n",
       "2                      w                      w         p          w   \n",
       "3                      w                      w         p          w   \n",
       "4                      w                      w         p          w   \n",
       "\n",
       "  ring-number ring-type spore-print-color population habitat  \n",
       "0           o         p                 k          s       u  \n",
       "1           o         p                 n          n       g  \n",
       "2           o         p                 n          n       m  \n",
       "3           o         p                 k          s       u  \n",
       "4           o         e                 n          a       g  \n",
       "\n",
       "[5 rows x 23 columns]"
      ]
     },
     "execution_count": 1,
     "metadata": {},
     "output_type": "execute_result"
    }
   ],
   "source": [
    "#dataset : Mushrooms Classification (https://www.kaggle.com/uciml/mushroom-classification)\n",
    "import pandas as pd\n",
    "mushrooms = pd.read_csv('./datasets/mushrooms/mushrooms.csv')\n",
    "mushrooms.head()"
   ]
  },
  {
   "cell_type": "code",
   "execution_count": 2,
   "metadata": {},
   "outputs": [
    {
     "data": {
      "text/html": [
       "<div>\n",
       "<style scoped>\n",
       "    .dataframe tbody tr th:only-of-type {\n",
       "        vertical-align: middle;\n",
       "    }\n",
       "\n",
       "    .dataframe tbody tr th {\n",
       "        vertical-align: top;\n",
       "    }\n",
       "\n",
       "    .dataframe thead th {\n",
       "        text-align: right;\n",
       "    }\n",
       "</style>\n",
       "<table border=\"1\" class=\"dataframe\">\n",
       "  <thead>\n",
       "    <tr style=\"text-align: right;\">\n",
       "      <th></th>\n",
       "      <th>class</th>\n",
       "      <th>cap-shape</th>\n",
       "      <th>cap-surface</th>\n",
       "      <th>cap-color</th>\n",
       "      <th>bruises</th>\n",
       "      <th>odor</th>\n",
       "      <th>gill-attachment</th>\n",
       "      <th>gill-spacing</th>\n",
       "      <th>gill-size</th>\n",
       "      <th>gill-color</th>\n",
       "      <th>...</th>\n",
       "      <th>stalk-surface-below-ring</th>\n",
       "      <th>stalk-color-above-ring</th>\n",
       "      <th>stalk-color-below-ring</th>\n",
       "      <th>veil-type</th>\n",
       "      <th>veil-color</th>\n",
       "      <th>ring-number</th>\n",
       "      <th>ring-type</th>\n",
       "      <th>spore-print-color</th>\n",
       "      <th>population</th>\n",
       "      <th>habitat</th>\n",
       "    </tr>\n",
       "  </thead>\n",
       "  <tbody>\n",
       "    <tr>\n",
       "      <th>0</th>\n",
       "      <td>1</td>\n",
       "      <td>5</td>\n",
       "      <td>2</td>\n",
       "      <td>4</td>\n",
       "      <td>1</td>\n",
       "      <td>6</td>\n",
       "      <td>1</td>\n",
       "      <td>0</td>\n",
       "      <td>1</td>\n",
       "      <td>4</td>\n",
       "      <td>...</td>\n",
       "      <td>2</td>\n",
       "      <td>7</td>\n",
       "      <td>7</td>\n",
       "      <td>0</td>\n",
       "      <td>2</td>\n",
       "      <td>1</td>\n",
       "      <td>4</td>\n",
       "      <td>2</td>\n",
       "      <td>3</td>\n",
       "      <td>5</td>\n",
       "    </tr>\n",
       "    <tr>\n",
       "      <th>1</th>\n",
       "      <td>0</td>\n",
       "      <td>5</td>\n",
       "      <td>2</td>\n",
       "      <td>9</td>\n",
       "      <td>1</td>\n",
       "      <td>0</td>\n",
       "      <td>1</td>\n",
       "      <td>0</td>\n",
       "      <td>0</td>\n",
       "      <td>4</td>\n",
       "      <td>...</td>\n",
       "      <td>2</td>\n",
       "      <td>7</td>\n",
       "      <td>7</td>\n",
       "      <td>0</td>\n",
       "      <td>2</td>\n",
       "      <td>1</td>\n",
       "      <td>4</td>\n",
       "      <td>3</td>\n",
       "      <td>2</td>\n",
       "      <td>1</td>\n",
       "    </tr>\n",
       "    <tr>\n",
       "      <th>2</th>\n",
       "      <td>0</td>\n",
       "      <td>0</td>\n",
       "      <td>2</td>\n",
       "      <td>8</td>\n",
       "      <td>1</td>\n",
       "      <td>3</td>\n",
       "      <td>1</td>\n",
       "      <td>0</td>\n",
       "      <td>0</td>\n",
       "      <td>5</td>\n",
       "      <td>...</td>\n",
       "      <td>2</td>\n",
       "      <td>7</td>\n",
       "      <td>7</td>\n",
       "      <td>0</td>\n",
       "      <td>2</td>\n",
       "      <td>1</td>\n",
       "      <td>4</td>\n",
       "      <td>3</td>\n",
       "      <td>2</td>\n",
       "      <td>3</td>\n",
       "    </tr>\n",
       "    <tr>\n",
       "      <th>3</th>\n",
       "      <td>1</td>\n",
       "      <td>5</td>\n",
       "      <td>3</td>\n",
       "      <td>8</td>\n",
       "      <td>1</td>\n",
       "      <td>6</td>\n",
       "      <td>1</td>\n",
       "      <td>0</td>\n",
       "      <td>1</td>\n",
       "      <td>5</td>\n",
       "      <td>...</td>\n",
       "      <td>2</td>\n",
       "      <td>7</td>\n",
       "      <td>7</td>\n",
       "      <td>0</td>\n",
       "      <td>2</td>\n",
       "      <td>1</td>\n",
       "      <td>4</td>\n",
       "      <td>2</td>\n",
       "      <td>3</td>\n",
       "      <td>5</td>\n",
       "    </tr>\n",
       "    <tr>\n",
       "      <th>4</th>\n",
       "      <td>0</td>\n",
       "      <td>5</td>\n",
       "      <td>2</td>\n",
       "      <td>3</td>\n",
       "      <td>0</td>\n",
       "      <td>5</td>\n",
       "      <td>1</td>\n",
       "      <td>1</td>\n",
       "      <td>0</td>\n",
       "      <td>4</td>\n",
       "      <td>...</td>\n",
       "      <td>2</td>\n",
       "      <td>7</td>\n",
       "      <td>7</td>\n",
       "      <td>0</td>\n",
       "      <td>2</td>\n",
       "      <td>1</td>\n",
       "      <td>0</td>\n",
       "      <td>3</td>\n",
       "      <td>0</td>\n",
       "      <td>1</td>\n",
       "    </tr>\n",
       "  </tbody>\n",
       "</table>\n",
       "<p>5 rows × 23 columns</p>\n",
       "</div>"
      ],
      "text/plain": [
       "   class  cap-shape  cap-surface  cap-color  bruises  odor  gill-attachment  \\\n",
       "0      1          5            2          4        1     6                1   \n",
       "1      0          5            2          9        1     0                1   \n",
       "2      0          0            2          8        1     3                1   \n",
       "3      1          5            3          8        1     6                1   \n",
       "4      0          5            2          3        0     5                1   \n",
       "\n",
       "   gill-spacing  gill-size  gill-color  ...  stalk-surface-below-ring  \\\n",
       "0             0          1           4  ...                         2   \n",
       "1             0          0           4  ...                         2   \n",
       "2             0          0           5  ...                         2   \n",
       "3             0          1           5  ...                         2   \n",
       "4             1          0           4  ...                         2   \n",
       "\n",
       "   stalk-color-above-ring  stalk-color-below-ring  veil-type  veil-color  \\\n",
       "0                       7                       7          0           2   \n",
       "1                       7                       7          0           2   \n",
       "2                       7                       7          0           2   \n",
       "3                       7                       7          0           2   \n",
       "4                       7                       7          0           2   \n",
       "\n",
       "   ring-number  ring-type  spore-print-color  population  habitat  \n",
       "0            1          4                  2           3        5  \n",
       "1            1          4                  3           2        1  \n",
       "2            1          4                  3           2        3  \n",
       "3            1          4                  2           3        5  \n",
       "4            1          0                  3           0        1  \n",
       "\n",
       "[5 rows x 23 columns]"
      ]
     },
     "execution_count": 2,
     "metadata": {},
     "output_type": "execute_result"
    }
   ],
   "source": [
    "from sklearn.preprocessing import LabelEncoder\n",
    "labelencoder=LabelEncoder()\n",
    "for col in mushrooms.columns:\n",
    "    mushrooms[col] = labelencoder.fit_transform(mushrooms[col])\n",
    "mushrooms.head()"
   ]
  },
  {
   "cell_type": "code",
   "execution_count": 3,
   "metadata": {},
   "outputs": [
    {
     "data": {
      "text/html": [
       "<div>\n",
       "<style scoped>\n",
       "    .dataframe tbody tr th:only-of-type {\n",
       "        vertical-align: middle;\n",
       "    }\n",
       "\n",
       "    .dataframe tbody tr th {\n",
       "        vertical-align: top;\n",
       "    }\n",
       "\n",
       "    .dataframe thead th {\n",
       "        text-align: right;\n",
       "    }\n",
       "</style>\n",
       "<table border=\"1\" class=\"dataframe\">\n",
       "  <thead>\n",
       "    <tr style=\"text-align: right;\">\n",
       "      <th></th>\n",
       "      <th>bruises</th>\n",
       "      <th>gill-size</th>\n",
       "      <th>gill-color</th>\n",
       "    </tr>\n",
       "  </thead>\n",
       "  <tbody>\n",
       "    <tr>\n",
       "      <th>0</th>\n",
       "      <td>1</td>\n",
       "      <td>1</td>\n",
       "      <td>4</td>\n",
       "    </tr>\n",
       "    <tr>\n",
       "      <th>1</th>\n",
       "      <td>1</td>\n",
       "      <td>0</td>\n",
       "      <td>4</td>\n",
       "    </tr>\n",
       "    <tr>\n",
       "      <th>2</th>\n",
       "      <td>1</td>\n",
       "      <td>0</td>\n",
       "      <td>5</td>\n",
       "    </tr>\n",
       "    <tr>\n",
       "      <th>3</th>\n",
       "      <td>1</td>\n",
       "      <td>1</td>\n",
       "      <td>5</td>\n",
       "    </tr>\n",
       "    <tr>\n",
       "      <th>4</th>\n",
       "      <td>0</td>\n",
       "      <td>0</td>\n",
       "      <td>4</td>\n",
       "    </tr>\n",
       "  </tbody>\n",
       "</table>\n",
       "</div>"
      ],
      "text/plain": [
       "   bruises  gill-size  gill-color\n",
       "0        1          1           4\n",
       "1        1          0           4\n",
       "2        1          0           5\n",
       "3        1          1           5\n",
       "4        0          0           4"
      ]
     },
     "execution_count": 3,
     "metadata": {},
     "output_type": "execute_result"
    }
   ],
   "source": [
    "X=mushrooms.loc[:,(\"bruises\",\"gill-size\",\"gill-color\")]\n",
    "X.head()"
   ]
  },
  {
   "cell_type": "code",
   "execution_count": 4,
   "metadata": {},
   "outputs": [],
   "source": [
    "X=X.values\n",
    "y=mushrooms['class'].values"
   ]
  },
  {
   "cell_type": "code",
   "execution_count": 5,
   "metadata": {},
   "outputs": [
    {
     "name": "stderr",
     "output_type": "stream",
     "text": [
      "C:\\ProgramData\\Anaconda3\\lib\\site-packages\\sklearn\\utils\\validation.py:595: DataConversionWarning: Data with input dtype int32 was converted to float64 by StandardScaler.\n",
      "  warnings.warn(msg, DataConversionWarning)\n",
      "C:\\ProgramData\\Anaconda3\\lib\\site-packages\\sklearn\\utils\\validation.py:595: DataConversionWarning: Data with input dtype int32 was converted to float64 by StandardScaler.\n",
      "  warnings.warn(msg, DataConversionWarning)\n"
     ]
    }
   ],
   "source": [
    "from sklearn.pipeline import Pipeline\n",
    "from sklearn.preprocessing import StandardScaler\n",
    "from sklearn.preprocessing import OneHotEncoder\n",
    "cat_pipeline = Pipeline([\n",
    "        ('scaling', StandardScaler()),\n",
    "        ('onehot_encoder', OneHotEncoder(sparse=False,categories='auto')),\n",
    "    ])\n",
    "X_prepared=cat_pipeline.fit_transform(X)"
   ]
  },
  {
   "cell_type": "code",
   "execution_count": 6,
   "metadata": {},
   "outputs": [],
   "source": [
    "#training set & test set 나누기\n",
    "from sklearn.model_selection import train_test_split\n",
    "import numpy as np\n",
    "X_train , X_test , y_train , y_test = train_test_split(X_prepared,y,test_size=0.2,random_state=42)"
   ]
  },
  {
   "cell_type": "markdown",
   "metadata": {},
   "source": [
    "## Step 2. Select a weak learner to use as estimator"
   ]
  },
  {
   "cell_type": "code",
   "execution_count": 7,
   "metadata": {},
   "outputs": [],
   "source": [
    "import time\n",
    "import numpy as np\n",
    "from sklearn.linear_model import SGDClassifier\n",
    "sgd_clf = SGDClassifier(max_iter=5, tol=-np.infty,random_state=42,loss='log')\n",
    "sgd_time = time.time() \n",
    "sgd_clf.fit(X_train,y_train)\n",
    "sgd_time = time.time() -sgd_time\n",
    "\n",
    "from sklearn.neighbors import KNeighborsClassifier\n",
    "knn_clf = KNeighborsClassifier(n_neighbors=2)\n",
    "knn_time = time.time() \n",
    "knn_clf.fit(X_train,y_train)\n",
    "knn_time = time.time() -knn_time\n",
    "\n",
    "from sklearn.tree import DecisionTreeClassifier\n",
    "tree_clf = DecisionTreeClassifier(max_depth=2,random_state=42)\n",
    "tree_time = time.time() \n",
    "tree_clf.fit(X_train,y_train)\n",
    "tree_time = time.time() -tree_time\n",
    "\n",
    "from sklearn.svm import SVC\n",
    "svm_clf = SVC(gamma='auto',C=2,random_state=42,probability=True)\n",
    "svc_time = time.time() \n",
    "svm_clf.fit(X_train,y_train)\n",
    "svc_time = time.time() -svc_time "
   ]
  },
  {
   "cell_type": "code",
   "execution_count": 8,
   "metadata": {},
   "outputs": [
    {
     "name": "stdout",
     "output_type": "stream",
     "text": [
      "SGD classifier Accuracy : 0.8473846153846154\n",
      "KNN classifier Accuracy : 0.7655384615384615\n",
      "Decision Tree classifier Accuracy : 0.7556923076923077\n",
      "SVM classifier Accuracy : 0.8633846153846154\n"
     ]
    }
   ],
   "source": [
    "from sklearn.metrics import accuracy_score\n",
    "def getScore(model):\n",
    "    y_score = model.predict(X_test)\n",
    "    accuracy = accuracy_score(y_test,y_score)\n",
    "    return accuracy\n",
    "print('SGD classifier Accuracy : {}'.format(getScore(sgd_clf)))\n",
    "print('KNN classifier Accuracy : {}'.format(getScore(knn_clf)))\n",
    "print('Decision Tree classifier Accuracy : {}'.format(getScore(tree_clf)))\n",
    "print('SVM classifier Accuracy : {}'.format(getScore(svm_clf)))"
   ]
  },
  {
   "cell_type": "markdown",
   "metadata": {},
   "source": [
    "## Step 3. Train Adaboost classifier and Gradient boosting classifier"
   ]
  },
  {
   "cell_type": "code",
   "execution_count": 9,
   "metadata": {},
   "outputs": [],
   "source": [
    "#Adaboost\n",
    "from sklearn.ensemble import AdaBoostClassifier\n",
    "ada_clf_sgd = AdaBoostClassifier(SGDClassifier(max_iter=5, tol=-np.infty,random_state=42,loss='log'),\n",
    "                            n_estimators=10,learning_rate=0.5, random_state=42)\n",
    "ada_sgd_time = time.time() \n",
    "ada_clf_sgd.fit(X_train,y_train)\n",
    "ada_sgd_time = time.time()-ada_sgd_time"
   ]
  },
  {
   "cell_type": "code",
   "execution_count": 10,
   "metadata": {},
   "outputs": [
    {
     "ename": "ValueError",
     "evalue": "KNeighborsClassifier doesn't support sample_weight.",
     "output_type": "error",
     "traceback": [
      "\u001b[1;31m---------------------------------------------------------------------------\u001b[0m",
      "\u001b[1;31mValueError\u001b[0m                                Traceback (most recent call last)",
      "\u001b[1;32m<ipython-input-10-d50acd3e0df1>\u001b[0m in \u001b[0;36m<module>\u001b[1;34m\u001b[0m\n\u001b[0;32m      2\u001b[0m                             n_estimators=10,learning_rate=0.5, random_state=42)\n\u001b[0;32m      3\u001b[0m \u001b[0mada_knn_time\u001b[0m \u001b[1;33m=\u001b[0m \u001b[0mtime\u001b[0m\u001b[1;33m.\u001b[0m\u001b[0mtime\u001b[0m\u001b[1;33m(\u001b[0m\u001b[1;33m)\u001b[0m\u001b[1;33m\u001b[0m\u001b[1;33m\u001b[0m\u001b[0m\n\u001b[1;32m----> 4\u001b[1;33m \u001b[0mada_clf_knn\u001b[0m\u001b[1;33m.\u001b[0m\u001b[0mfit\u001b[0m\u001b[1;33m(\u001b[0m\u001b[0mX_train\u001b[0m\u001b[1;33m,\u001b[0m\u001b[0my_train\u001b[0m\u001b[1;33m)\u001b[0m\u001b[1;33m\u001b[0m\u001b[1;33m\u001b[0m\u001b[0m\n\u001b[0m\u001b[0;32m      5\u001b[0m \u001b[0mada_knn_time\u001b[0m \u001b[1;33m=\u001b[0m \u001b[0mtime\u001b[0m\u001b[1;33m.\u001b[0m\u001b[0mtime\u001b[0m\u001b[1;33m(\u001b[0m\u001b[1;33m)\u001b[0m \u001b[1;33m-\u001b[0m \u001b[0mada_knn_time\u001b[0m\u001b[1;33m\u001b[0m\u001b[1;33m\u001b[0m\u001b[0m\n",
      "\u001b[1;32mC:\\ProgramData\\Anaconda3\\lib\\site-packages\\sklearn\\ensemble\\weight_boosting.py\u001b[0m in \u001b[0;36mfit\u001b[1;34m(self, X, y, sample_weight)\u001b[0m\n\u001b[0;32m    410\u001b[0m \u001b[1;33m\u001b[0m\u001b[0m\n\u001b[0;32m    411\u001b[0m         \u001b[1;31m# Fit\u001b[0m\u001b[1;33m\u001b[0m\u001b[1;33m\u001b[0m\u001b[1;33m\u001b[0m\u001b[0m\n\u001b[1;32m--> 412\u001b[1;33m         \u001b[1;32mreturn\u001b[0m \u001b[0msuper\u001b[0m\u001b[1;33m(\u001b[0m\u001b[0mAdaBoostClassifier\u001b[0m\u001b[1;33m,\u001b[0m \u001b[0mself\u001b[0m\u001b[1;33m)\u001b[0m\u001b[1;33m.\u001b[0m\u001b[0mfit\u001b[0m\u001b[1;33m(\u001b[0m\u001b[0mX\u001b[0m\u001b[1;33m,\u001b[0m \u001b[0my\u001b[0m\u001b[1;33m,\u001b[0m \u001b[0msample_weight\u001b[0m\u001b[1;33m)\u001b[0m\u001b[1;33m\u001b[0m\u001b[1;33m\u001b[0m\u001b[0m\n\u001b[0m\u001b[0;32m    413\u001b[0m \u001b[1;33m\u001b[0m\u001b[0m\n\u001b[0;32m    414\u001b[0m     \u001b[1;32mdef\u001b[0m \u001b[0m_validate_estimator\u001b[0m\u001b[1;33m(\u001b[0m\u001b[0mself\u001b[0m\u001b[1;33m)\u001b[0m\u001b[1;33m:\u001b[0m\u001b[1;33m\u001b[0m\u001b[1;33m\u001b[0m\u001b[0m\n",
      "\u001b[1;32mC:\\ProgramData\\Anaconda3\\lib\\site-packages\\sklearn\\ensemble\\weight_boosting.py\u001b[0m in \u001b[0;36mfit\u001b[1;34m(self, X, y, sample_weight)\u001b[0m\n\u001b[0;32m    126\u001b[0m \u001b[1;33m\u001b[0m\u001b[0m\n\u001b[0;32m    127\u001b[0m         \u001b[1;31m# Check parameters\u001b[0m\u001b[1;33m\u001b[0m\u001b[1;33m\u001b[0m\u001b[1;33m\u001b[0m\u001b[0m\n\u001b[1;32m--> 128\u001b[1;33m         \u001b[0mself\u001b[0m\u001b[1;33m.\u001b[0m\u001b[0m_validate_estimator\u001b[0m\u001b[1;33m(\u001b[0m\u001b[1;33m)\u001b[0m\u001b[1;33m\u001b[0m\u001b[1;33m\u001b[0m\u001b[0m\n\u001b[0m\u001b[0;32m    129\u001b[0m \u001b[1;33m\u001b[0m\u001b[0m\n\u001b[0;32m    130\u001b[0m         \u001b[1;31m# Clear any previous fit results\u001b[0m\u001b[1;33m\u001b[0m\u001b[1;33m\u001b[0m\u001b[1;33m\u001b[0m\u001b[0m\n",
      "\u001b[1;32mC:\\ProgramData\\Anaconda3\\lib\\site-packages\\sklearn\\ensemble\\weight_boosting.py\u001b[0m in \u001b[0;36m_validate_estimator\u001b[1;34m(self)\u001b[0m\n\u001b[0;32m    428\u001b[0m         \u001b[1;32mif\u001b[0m \u001b[1;32mnot\u001b[0m \u001b[0mhas_fit_parameter\u001b[0m\u001b[1;33m(\u001b[0m\u001b[0mself\u001b[0m\u001b[1;33m.\u001b[0m\u001b[0mbase_estimator_\u001b[0m\u001b[1;33m,\u001b[0m \u001b[1;34m\"sample_weight\"\u001b[0m\u001b[1;33m)\u001b[0m\u001b[1;33m:\u001b[0m\u001b[1;33m\u001b[0m\u001b[1;33m\u001b[0m\u001b[0m\n\u001b[0;32m    429\u001b[0m             raise ValueError(\"%s doesn't support sample_weight.\"\n\u001b[1;32m--> 430\u001b[1;33m                              % self.base_estimator_.__class__.__name__)\n\u001b[0m\u001b[0;32m    431\u001b[0m \u001b[1;33m\u001b[0m\u001b[0m\n\u001b[0;32m    432\u001b[0m     \u001b[1;32mdef\u001b[0m \u001b[0m_boost\u001b[0m\u001b[1;33m(\u001b[0m\u001b[0mself\u001b[0m\u001b[1;33m,\u001b[0m \u001b[0miboost\u001b[0m\u001b[1;33m,\u001b[0m \u001b[0mX\u001b[0m\u001b[1;33m,\u001b[0m \u001b[0my\u001b[0m\u001b[1;33m,\u001b[0m \u001b[0msample_weight\u001b[0m\u001b[1;33m,\u001b[0m \u001b[0mrandom_state\u001b[0m\u001b[1;33m)\u001b[0m\u001b[1;33m:\u001b[0m\u001b[1;33m\u001b[0m\u001b[1;33m\u001b[0m\u001b[0m\n",
      "\u001b[1;31mValueError\u001b[0m: KNeighborsClassifier doesn't support sample_weight."
     ]
    }
   ],
   "source": [
    "ada_clf_knn = AdaBoostClassifier(KNeighborsClassifier(n_neighbors=2),\n",
    "                            n_estimators=10,learning_rate=0.5, random_state=42)\n",
    "ada_knn_time = time.time() \n",
    "ada_clf_knn.fit(X_train,y_train)\n",
    "ada_knn_time = time.time() - ada_knn_time"
   ]
  },
  {
   "cell_type": "code",
   "execution_count": 11,
   "metadata": {},
   "outputs": [],
   "source": [
    "ada_clf_tree = AdaBoostClassifier(DecisionTreeClassifier(max_depth=2,random_state=42),\n",
    "                            n_estimators=10,learning_rate=0.5, random_state=42)\n",
    "ada_tree_time = time.time() \n",
    "ada_clf_tree.fit(X_train,y_train)\n",
    "ada_tree_time = time.time() -ada_tree_time"
   ]
  },
  {
   "cell_type": "markdown",
   "metadata": {},
   "source": [
    "- Compatible base learner's fit method needs to support sample_weight : AdaBoostClassifier, BernoulliNB, DecisionTreeClassifier, ExtraTreeClassifier, ExtraTreesClassifier, MultinomialNB, NuSVC, Perceptron, RandomForestClassifier, RidgeClassifierCV, SGDClassifier, SVC."
   ]
  },
  {
   "cell_type": "code",
   "execution_count": 12,
   "metadata": {},
   "outputs": [],
   "source": [
    "ada_clf_svc = AdaBoostClassifier(SVC(gamma='auto',C=2,random_state=42,probability=True),\n",
    "                            n_estimators=10,learning_rate=0.5, random_state=42)\n",
    "ada_svc_time = time.time() \n",
    "ada_clf_svc.fit(X_train,y_train)\n",
    "ada_svc_time = time.time() -ada_svc_time"
   ]
  },
  {
   "cell_type": "code",
   "execution_count": 13,
   "metadata": {},
   "outputs": [],
   "source": [
    "#GradientBoosting --> depth=2\n",
    "grd_sgd_time = time.time() \n",
    "grd_clf_sgd1 = SGDClassifier(max_iter=5, tol=-np.infty,random_state=42,loss='log')\n",
    "grd_clf_sgd1.fit(X_train,y_train)\n",
    "y2 = y_train - grd_clf_sgd1.predict(X_train)\n",
    "grd_clf_sgd2 = SGDClassifier(max_iter=5, tol=-np.infty,random_state=42,loss='log')\n",
    "grd_clf_sgd2.fit(X_train,y2)\n",
    "y3 = y2 - grd_clf_sgd2.predict(X_train)\n",
    "grd_clf_sgd = SGDClassifier(max_iter=5, tol=-np.infty,random_state=42,loss='log')\n",
    "grd_clf_sgd.fit(X_train,y3)\n",
    "grd_sgd_time = time.time() -grd_sgd_time"
   ]
  },
  {
   "cell_type": "code",
   "execution_count": 14,
   "metadata": {},
   "outputs": [],
   "source": [
    "grd_knn_time=time.time()\n",
    "grd_clf_knn1 = KNeighborsClassifier(n_neighbors=2)\n",
    "grd_clf_knn1.fit(X_train,y_train)\n",
    "y2 = y_train - grd_clf_knn1.predict(X_train)\n",
    "grd_clf_knn2 = KNeighborsClassifier(n_neighbors=2)\n",
    "grd_clf_knn2.fit(X_train,y2)\n",
    "y3 = y2 - grd_clf_knn2.predict(X_train)\n",
    "grd_clf_knn = KNeighborsClassifier(n_neighbors=2)\n",
    "grd_clf_knn.fit(X_train,y3)\n",
    "grd_knn_time=time.time()-grd_knn_time"
   ]
  },
  {
   "cell_type": "code",
   "execution_count": 15,
   "metadata": {},
   "outputs": [],
   "source": [
    "#GradientBoosting\n",
    "from sklearn.ensemble import GradientBoostingClassifier\n",
    "grd_clf_tree = GradientBoostingClassifier(max_depth=2,\n",
    "                                     n_estimators=10, learning_rate=0.5)\n",
    "grd_tree_time=time.time()\n",
    "grd_clf_tree.fit(X_train,y_train)\n",
    "grd_tree_time=time.time()-grd_tree_time"
   ]
  },
  {
   "cell_type": "code",
   "execution_count": 16,
   "metadata": {},
   "outputs": [],
   "source": [
    "grd_svc_time=time.time()\n",
    "grd_clf_svc1 = SVC(gamma='auto',C=2,random_state=42,probability=True)\n",
    "grd_clf_svc1.fit(X_train,y_train)\n",
    "y2 = y_train - grd_clf_svc1.predict(X_train)\n",
    "grd_clf_svc2 = SVC(gamma='auto',C=2,random_state=42,probability=True)\n",
    "grd_clf_svc2.fit(X_train,y2)\n",
    "y3 = y2 - grd_clf_svc2.predict(X_train)\n",
    "grd_clf_svc = SVC(gamma='auto',C=2,random_state=42,probability=True)\n",
    "grd_clf_svc.fit(X_train,y3)\n",
    "grd_svc_time=time.time()-grd_svc_time"
   ]
  },
  {
   "cell_type": "markdown",
   "metadata": {},
   "source": [
    "## Step 4. Compare Step3 model accuracy"
   ]
  },
  {
   "cell_type": "code",
   "execution_count": 17,
   "metadata": {},
   "outputs": [
    {
     "name": "stdout",
     "output_type": "stream",
     "text": [
      "Adaboost classifier - SGD Accuracy : 0.8116923076923077\n",
      "Adaboost classifier - Decision Tree Accuracy : 0.8633846153846154\n",
      "Adaboost classifier - SVC Accuracy : 0.7409230769230769\n"
     ]
    }
   ],
   "source": [
    "print('Adaboost classifier - SGD Accuracy : {}'.format(getScore(ada_clf_sgd)))\n",
    "#print('Adaboost classifier - KNN Accuracy : {}'.format(getScore(ada_clf_knn)))\n",
    "print('Adaboost classifier - Decision Tree Accuracy : {}'.format(getScore(ada_clf_tree)))\n",
    "print('Adaboost classifier - SVC Accuracy : {}'.format(getScore(ada_clf_svc)))"
   ]
  },
  {
   "cell_type": "code",
   "execution_count": 18,
   "metadata": {},
   "outputs": [
    {
     "name": "stdout",
     "output_type": "stream",
     "text": [
      "Gradient boosting classifier - SGD Accuracy Accuracy : 0.5181538461538462\n",
      "Gradient boosting classifier - KNN Accuracy Accuracy : 0.5187692307692308\n",
      "Gradient boosting classifier - Decision Tree Accuracy : 0.8307692307692308\n",
      "Gradient boosting classifier - SVC Accuracy Accuracy : 0.5187692307692308\n"
     ]
    }
   ],
   "source": [
    "print('Gradient boosting classifier - SGD Accuracy Accuracy : {}'.format(getScore(grd_clf_sgd)))\n",
    "print('Gradient boosting classifier - KNN Accuracy Accuracy : {}'.format(getScore(grd_clf_knn)))\n",
    "print('Gradient boosting classifier - Decision Tree Accuracy : {}'.format(getScore(grd_clf_tree)))\n",
    "print('Gradient boosting classifier - SVC Accuracy Accuracy : {}'.format(getScore(grd_clf_svc)))"
   ]
  },
  {
   "cell_type": "markdown",
   "metadata": {},
   "source": [
    "## Step 5. Find precision and Recall value"
   ]
  },
  {
   "cell_type": "code",
   "execution_count": 19,
   "metadata": {},
   "outputs": [
    {
     "name": "stdout",
     "output_type": "stream",
     "text": [
      "<knn_clf>\n",
      "precision score: 0.7655384615384615\n",
      "recall score: 0.7655384615384615\n",
      "<tree_clf>\n",
      "precision score: 0.7556923076923077\n",
      "recall score: 0.7556923076923077\n",
      "<ada_clf_sgd>\n",
      "precision score: 0.8116923076923077\n",
      "recall score: 0.8116923076923077\n",
      "<ada_clf_tree>\n",
      "precision score: 0.8633846153846154\n",
      "recall score: 0.8633846153846154\n",
      "<ada_clf_svc>\n",
      "precision score: 0.7409230769230769\n",
      "recall score: 0.7409230769230769\n",
      "<grd_clf_sgd>\n",
      "precision score: 0.5181538461538462\n",
      "recall score: 0.5181538461538462\n",
      "<grd_clf_knn>\n",
      "precision score: 0.5187692307692308\n",
      "recall score: 0.5187692307692308\n",
      "<grd_clf_tree>\n",
      "precision score: 0.8307692307692308\n",
      "recall score: 0.8307692307692308\n",
      "<grd_clf_svc>\n",
      "precision score: 0.5187692307692308\n",
      "recall score: 0.5187692307692308\n"
     ]
    }
   ],
   "source": [
    "from sklearn.metrics import precision_score,recall_score\n",
    "def getPR(classifier):\n",
    "    y_score = classifier.predict(X_test)\n",
    "    precision = precision_score(y_test, y_score,average='micro')\n",
    "    recall =  recall_score(y_test, y_score,average='micro')\n",
    "    print('precision score: {}'.format(precision))\n",
    "    print('recall score: {}'.format(recall))\n",
    "#weak model\n",
    "print('<knn_clf>')\n",
    "getPR(knn_clf)\n",
    "print('<tree_clf>')\n",
    "getPR(tree_clf)\n",
    "#Bagging and Pasting\n",
    "print('<ada_clf_sgd>')\n",
    "getPR(ada_clf_sgd)\n",
    "# print('<ada_clf_knn>')\n",
    "# getPR(ada_clf_knn)\n",
    "print('<ada_clf_tree>')\n",
    "getPR(ada_clf_tree)\n",
    "print('<ada_clf_svc>')\n",
    "getPR(ada_clf_svc)\n",
    "print('<grd_clf_sgd>')\n",
    "getPR(grd_clf_sgd)\n",
    "print('<grd_clf_knn>')\n",
    "getPR(grd_clf_knn)\n",
    "print('<grd_clf_tree>')\n",
    "getPR(grd_clf_tree)\n",
    "print('<grd_clf_svc>')\n",
    "getPR(grd_clf_svc)"
   ]
  },
  {
   "cell_type": "markdown",
   "metadata": {},
   "source": [
    "## Step 6. Compare the results with Bagging classifier's accuracy"
   ]
  },
  {
   "cell_type": "code",
   "execution_count": 20,
   "metadata": {},
   "outputs": [],
   "source": [
    "\n",
    "from sklearn.ensemble import BaggingClassifier\n",
    "#Bagging classifier - SGD\n",
    "bag_clf_sgd = BaggingClassifier(SGDClassifier(max_iter=5, tol=-np.infty,random_state=42,loss='log'),\n",
    "                                n_estimators=10,max_samples=100,\n",
    "                                bootstrap=True ,n_jobs=-1 , random_state=42)\n",
    "bag_sgd_time=time.time()\n",
    "bag_clf_sgd.fit(X_train,y_train)\n",
    "bag_sgd_time=time.time()-bag_sgd_time\n",
    "#Bagging classifier - KNeighborsClassifier\n",
    "bag_clf_knn = BaggingClassifier(KNeighborsClassifier(n_neighbors=2),\n",
    "                                n_estimators=10,max_samples=100,\n",
    "                                bootstrap=True ,n_jobs=-1 , random_state=42)\n",
    "bag_knn_time=time.time()\n",
    "bag_clf_knn.fit(X_train,y_train)\n",
    "bag_knn_time=time.time()-bag_knn_time\n",
    "#Bagging classifier - DecisionTreeClassifier\n",
    "bag_clf_tree = BaggingClassifier(DecisionTreeClassifier(max_depth=2,random_state=42),\n",
    "                                n_estimators=10,max_samples=100,\n",
    "                                bootstrap=True ,n_jobs=-1 , random_state=42)\n",
    "bag_tree_time=time.time()\n",
    "bag_clf_tree.fit(X_train,y_train)\n",
    "bag_tree_time=time.time()-bag_tree_time\n",
    "#Bagging classifier - SVC\n",
    "bag_clf_svc = BaggingClassifier(SVC(gamma='auto',C=2,random_state=42,probability=True),\n",
    "                                n_estimators=10,max_samples=100,\n",
    "                                bootstrap=True ,n_jobs=-1 , random_state=42)\n",
    "bag_svc_time=time.time()\n",
    "bag_clf_svc.fit(X_train,y_train)\n",
    "bag_svc_time=time.time()-bag_svc_time"
   ]
  },
  {
   "cell_type": "code",
   "execution_count": 21,
   "metadata": {},
   "outputs": [],
   "source": [
    "#Pasting classifier - SGD\n",
    "pas_clf_sgd = BaggingClassifier(SGDClassifier(max_iter=5, tol=-np.infty,random_state=42,loss='log'),\n",
    "                                n_estimators=10,max_samples=100,\n",
    "                                bootstrap=False ,n_jobs=-1 , random_state=42)\n",
    "pas_sgd_time=time.time()\n",
    "pas_clf_sgd.fit(X_train,y_train)\n",
    "pas_sgd_time=time.time()-pas_sgd_time\n",
    "#Pasting classifier - KNeighborsClassifier\n",
    "pas_clf_knn = BaggingClassifier(KNeighborsClassifier(n_neighbors=2),\n",
    "                                n_estimators=10,max_samples=100,\n",
    "                                bootstrap=False ,n_jobs=-1 , random_state=42)\n",
    "pas_knn_time=time.time()\n",
    "pas_clf_knn.fit(X_train,y_train)\n",
    "pas_knn_time=time.time()-pas_knn_time\n",
    "#Pasting classifier - DecisionTreeClassifier\n",
    "pas_clf_tree = BaggingClassifier(DecisionTreeClassifier(max_depth=2,random_state=42),\n",
    "                                n_estimators=10,max_samples=100,\n",
    "                                bootstrap=False ,n_jobs=-1 , random_state=42)\n",
    "pas_tree_time=time.time()\n",
    "pas_clf_tree.fit(X_train,y_train)\n",
    "pas_tree_time=time.time()-pas_tree_time\n",
    "#Pasting classifier - SVC\n",
    "pas_clf_svc = BaggingClassifier(SVC(gamma='auto',C=2,random_state=42,probability=True),\n",
    "                                n_estimators=10,max_samples=100,\n",
    "                                bootstrap=False ,n_jobs=-1 , random_state=42)\n",
    "pas_svc_time=time.time()\n",
    "pas_clf_svc.fit(X_train,y_train)\n",
    "pas_svc_time=time.time()-pas_svc_time"
   ]
  },
  {
   "cell_type": "code",
   "execution_count": 22,
   "metadata": {},
   "outputs": [
    {
     "name": "stdout",
     "output_type": "stream",
     "text": [
      "Bagging classifier - SGD classifier Accuracy : 0.7692307692307693\n",
      "Bagging classifier - knn classifier Accuracy : 0.788923076923077\n",
      "Bagging classifier - Decision Tree classifier Accuracy : 0.7581538461538462\n",
      "Bagging classifier - SVC classifier Accuracy : 0.824\n"
     ]
    }
   ],
   "source": [
    "print('Bagging classifier - SGD classifier Accuracy : {}'.format(getScore(bag_clf_sgd)))\n",
    "print('Bagging classifier - knn classifier Accuracy : {}'.format(getScore(bag_clf_knn)))\n",
    "print('Bagging classifier - Decision Tree classifier Accuracy : {}'.format(getScore(bag_clf_tree)))\n",
    "print('Bagging classifier - SVC classifier Accuracy : {}'.format(getScore(bag_clf_svc)))"
   ]
  },
  {
   "cell_type": "code",
   "execution_count": 23,
   "metadata": {},
   "outputs": [
    {
     "name": "stdout",
     "output_type": "stream",
     "text": [
      "Pasting classifier - SGD classifier Accuracy : 0.824\n",
      "Pasting classifier - knn classifier Accuracy : 0.84\n",
      "Pasting classifier - Decision Tree classifier Accuracy : 0.7913846153846154\n",
      "Pasting classifier - SVC classifier Accuracy : 0.8381538461538461\n"
     ]
    }
   ],
   "source": [
    "print('Pasting classifier - SGD classifier Accuracy : {}'.format(getScore(pas_clf_sgd)))\n",
    "print('Pasting classifier - knn classifier Accuracy : {}'.format(getScore(pas_clf_knn)))\n",
    "print('Pasting classifier - Decision Tree classifier Accuracy : {}'.format(getScore(pas_clf_tree)))\n",
    "print('Pasting classifier - SVC classifier Accuracy : {}'.format(getScore(pas_clf_svc)))"
   ]
  },
  {
   "cell_type": "code",
   "execution_count": 24,
   "metadata": {},
   "outputs": [],
   "source": [
    "#soft voting\n",
    "from sklearn.ensemble import VotingClassifier\n",
    "soft_clf = VotingClassifier(estimators=[('sgd',SGDClassifier(max_iter=5, tol=-np.infty,random_state=42,loss='log')),\n",
    "                                        ('knn',KNeighborsClassifier(n_neighbors=2)),\n",
    "                                        ('tree',DecisionTreeClassifier(max_depth=2,random_state=42)),\n",
    "                                        ('svc',SVC(gamma='auto',C=2,random_state=42,probability=True))\n",
    "                                        ],\n",
    "                           voting='soft')\n",
    "#hard voting\n",
    "hard_clf = VotingClassifier(estimators=[('sgd',SGDClassifier(max_iter=5, tol=-np.infty,random_state=42,loss='log')),\n",
    "                                        ('knn',KNeighborsClassifier(n_neighbors=2)),\n",
    "                                        ('tree',DecisionTreeClassifier(max_depth=2,random_state=42)),\n",
    "                                        ('svc',SVC(gamma='auto',C=2,random_state=42,probability=True))\n",
    "                                        ],\n",
    "                           voting='hard')\n",
    "soft_time=time.time()\n",
    "soft_clf.fit(X_train,y_train)\n",
    "soft_time=time.time()-soft_time\n",
    "hard_time=time.time()\n",
    "hard_clf.fit(X_train,y_train)\n",
    "hard_time=time.time()-hard_time"
   ]
  },
  {
   "cell_type": "code",
   "execution_count": 25,
   "metadata": {},
   "outputs": [
    {
     "name": "stdout",
     "output_type": "stream",
     "text": [
      "Soft Voting classifier Accuracy : 0.8615384615384616\n",
      "Hard Voting classifier Accuracy : 0.8633846153846154\n"
     ]
    }
   ],
   "source": [
    "print('Soft Voting classifier Accuracy : {}'.format(getScore(soft_clf)))\n",
    "print('Hard Voting classifier Accuracy : {}'.format(getScore(hard_clf)))"
   ]
  },
  {
   "cell_type": "markdown",
   "metadata": {},
   "source": [
    "- trainig time compare"
   ]
  },
  {
   "cell_type": "code",
   "execution_count": 26,
   "metadata": {},
   "outputs": [
    {
     "name": "stdout",
     "output_type": "stream",
     "text": [
      "<Training Time Compare>\n",
      "1. Weak model\n",
      "SGD Classifier : 0.00599980354309082\n",
      "knn Classifier : 0.023000001907348633\n",
      "tree Classifier : 0.002000093460083008\n",
      "SVC Classifier : 3.2529244422912598\n",
      "2. AdaBoost\n",
      "SGD Classifier : 0.1009976863861084\n",
      "tree Classifier : 0.03999900817871094\n",
      "svc Classifier : 111.76341009140015\n",
      "3. Gradient Boost\n",
      "SGD Classifier : 0.14800095558166504\n",
      "knn Classifier : 1.182974100112915\n",
      "tree Classifier : 0.031000137329101562\n",
      "SVC Classifier : 8.222809076309204\n",
      "4. Bagging\n",
      "SGD Classifier : 1.2769708633422852\n",
      "knn Classifier : 0.039998531341552734\n",
      "tree Classifier : 0.026998281478881836\n",
      "SVC Classifier : 0.030999422073364258\n",
      "5. Pasting\n",
      "SGD Classifier : 0.03999948501586914\n",
      "knn Classifier : 0.019999265670776367\n",
      "tree Classifier : 0.02499985694885254\n",
      "SVC Classifier : 0.030998706817626953\n",
      "6. Voting\n",
      "Soft Voting Classifier : 3.126927375793457\n",
      "Hard Voting Classifier : 3.1179280281066895\n"
     ]
    }
   ],
   "source": [
    "print('<Training Time Compare>')\n",
    "print('1. Weak model')\n",
    "print('SGD Classifier : {}'.format(sgd_time))\n",
    "print('knn Classifier : {}'.format(knn_time))\n",
    "print('tree Classifier : {}'.format(tree_time))\n",
    "print('SVC Classifier : {}'.format(svc_time))\n",
    "print('2. AdaBoost')\n",
    "print('SGD Classifier : {}'.format(ada_sgd_time))\n",
    "#print('AdaBoost knn Classifier : {}'.format(ada_sgd_time))\n",
    "print('tree Classifier : {}'.format(ada_tree_time))\n",
    "print('svc Classifier : {}'.format(ada_svc_time))\n",
    "print('3. Gradient Boost')\n",
    "print('SGD Classifier : {}'.format(grd_sgd_time))\n",
    "print('knn Classifier : {}'.format(grd_knn_time))\n",
    "print('tree Classifier : {}'.format(grd_tree_time))\n",
    "print('SVC Classifier : {}'.format(grd_svc_time))\n",
    "print('4. Bagging')\n",
    "print('SGD Classifier : {}'.format(bag_sgd_time))\n",
    "print('knn Classifier : {}'.format(bag_knn_time))\n",
    "print('tree Classifier : {}'.format(bag_tree_time))\n",
    "print('SVC Classifier : {}'.format(bag_svc_time))\n",
    "print('5. Pasting')\n",
    "print('SGD Classifier : {}'.format(pas_sgd_time))\n",
    "print('knn Classifier : {}'.format(pas_knn_time))\n",
    "print('tree Classifier : {}'.format(pas_tree_time))\n",
    "print('SVC Classifier : {}'.format(pas_svc_time))\n",
    "print('6. Voting')\n",
    "print('Soft Voting Classifier : {}'.format(soft_time))\n",
    "print('Hard Voting Classifier : {}'.format(hard_time))"
   ]
  },
  {
   "cell_type": "code",
   "execution_count": null,
   "metadata": {},
   "outputs": [],
   "source": []
  }
 ],
 "metadata": {
  "kernelspec": {
   "display_name": "Python 3",
   "language": "python",
   "name": "python3"
  },
  "language_info": {
   "codemirror_mode": {
    "name": "ipython",
    "version": 3
   },
   "file_extension": ".py",
   "mimetype": "text/x-python",
   "name": "python",
   "nbconvert_exporter": "python",
   "pygments_lexer": "ipython3",
   "version": "3.6.7"
  }
 },
 "nbformat": 4,
 "nbformat_minor": 2
}

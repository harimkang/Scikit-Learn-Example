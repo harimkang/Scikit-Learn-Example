{
 "cells": [
  {
   "cell_type": "markdown",
   "metadata": {},
   "source": [
    "# Iris Flower Classification"
   ]
  },
  {
   "cell_type": "markdown",
   "metadata": {},
   "source": [
    "## Step 1. Download Iris Dataset"
   ]
  },
  {
   "cell_type": "code",
   "execution_count": 1,
   "metadata": {},
   "outputs": [
    {
     "data": {
      "text/plain": [
       "array(['setosa', 'versicolor', 'virginica'], dtype='<U10')"
      ]
     },
     "execution_count": 1,
     "metadata": {},
     "output_type": "execute_result"
    }
   ],
   "source": [
    "from sklearn import datasets\n",
    "import pandas as pd\n",
    "from pandas import DataFrame\n",
    "\n",
    "iris = datasets.load_iris()\n",
    "X = iris.data #X는 iris의 data darray\n",
    "y = iris.target #y는 labels\n",
    "iris.target_names"
   ]
  },
  {
   "cell_type": "code",
   "execution_count": 2,
   "metadata": {},
   "outputs": [
    {
     "name": "stderr",
     "output_type": "stream",
     "text": [
      "D:\\Python\\anaconda\\lib\\site-packages\\sklearn\\utils\\deprecation.py:58: DeprecationWarning: Class Imputer is deprecated; Imputer was deprecated in version 0.20 and will be removed in 0.22. Import impute.SimpleImputer from sklearn instead.\n",
      "  warnings.warn(msg, category=DeprecationWarning)\n"
     ]
    }
   ],
   "source": [
    "#Do preprocessing\n",
    "from sklearn.pipeline import Pipeline\n",
    "from sklearn.preprocessing import StandardScaler\n",
    "from sklearn.preprocessing import Imputer\n",
    "from sklearn.preprocessing import OneHotEncoder\n",
    "num_pipeline = Pipeline([\n",
    "        ('imputer', Imputer(strategy=\"median\")),\n",
    "        ('std_scaler', StandardScaler()),\n",
    "    ])\n",
    "X_prepared = num_pipeline.fit_transform(X) #정제된 X"
   ]
  },
  {
   "cell_type": "markdown",
   "metadata": {},
   "source": [
    "## Step 2. Split Training and Testing Dataset"
   ]
  },
  {
   "cell_type": "code",
   "execution_count": 3,
   "metadata": {},
   "outputs": [],
   "source": [
    "#training set & test set 나누기\n",
    "from sklearn.model_selection import train_test_split\n",
    "import numpy as np\n",
    "X_train , X_test , y_train , y_test = train_test_split(X_prepared,y,test_size=0.2,random_state=42)"
   ]
  },
  {
   "cell_type": "markdown",
   "metadata": {},
   "source": [
    "## Step 3. Generating Classifier Model"
   ]
  },
  {
   "cell_type": "code",
   "execution_count": 4,
   "metadata": {},
   "outputs": [
    {
     "data": {
      "text/plain": [
       "SGDClassifier(alpha=0.0001, average=False, class_weight=None,\n",
       "       early_stopping=False, epsilon=0.1, eta0=0.0, fit_intercept=True,\n",
       "       l1_ratio=0.15, learning_rate='optimal', loss='hinge', max_iter=3,\n",
       "       n_iter=None, n_iter_no_change=5, n_jobs=None, penalty='l2',\n",
       "       power_t=0.5, random_state=42, shuffle=True, tol=-inf,\n",
       "       validation_fraction=0.1, verbose=0, warm_start=False)"
      ]
     },
     "execution_count": 4,
     "metadata": {},
     "output_type": "execute_result"
    }
   ],
   "source": [
    "#첫번째 classification model : SGDClassifier\n",
    "from sklearn.linear_model import SGDClassifier\n",
    "sgd_clf = SGDClassifier(max_iter=3, tol=-np.infty,random_state=42)\n",
    "sgd_clf.fit(X_train,y_train)"
   ]
  },
  {
   "cell_type": "code",
   "execution_count": 5,
   "metadata": {},
   "outputs": [
    {
     "data": {
      "text/plain": [
       "RandomForestClassifier(bootstrap=True, class_weight=None, criterion='gini',\n",
       "            max_depth=None, max_features='auto', max_leaf_nodes=None,\n",
       "            min_impurity_decrease=0.0, min_impurity_split=None,\n",
       "            min_samples_leaf=1, min_samples_split=2,\n",
       "            min_weight_fraction_leaf=0.0, n_estimators=10, n_jobs=None,\n",
       "            oob_score=False, random_state=42, verbose=0, warm_start=False)"
      ]
     },
     "execution_count": 5,
     "metadata": {},
     "output_type": "execute_result"
    }
   ],
   "source": [
    "#두번째 classification model : RandomForestClassifier\n",
    "from sklearn.ensemble import RandomForestClassifier\n",
    "forest_clf = RandomForestClassifier(n_estimators=10,random_state=42)\n",
    "forest_clf.fit(X_train, y_train)"
   ]
  },
  {
   "cell_type": "code",
   "execution_count": 6,
   "metadata": {},
   "outputs": [
    {
     "data": {
      "text/plain": [
       "KNeighborsClassifier(algorithm='auto', leaf_size=30, metric='minkowski',\n",
       "           metric_params=None, n_jobs=None, n_neighbors=1, p=2,\n",
       "           weights='uniform')"
      ]
     },
     "execution_count": 6,
     "metadata": {},
     "output_type": "execute_result"
    }
   ],
   "source": [
    "#세번째 classification model : k-NeighborsClassifier\n",
    "#k-NeighborsClassifier : 새로운 data에 대한 k개의 근접한 이웃을 찾는 알고리즘\n",
    "from sklearn.neighbors import KNeighborsClassifier\n",
    "knb_clf = KNeighborsClassifier(n_neighbors=1) #1개의 가장 근접한 이웃을 찾는다\n",
    "knb_clf.fit(X_train,y_train)"
   ]
  },
  {
   "cell_type": "markdown",
   "metadata": {},
   "source": [
    "## Step 4. Get Accuracy using cross validation"
   ]
  },
  {
   "cell_type": "code",
   "execution_count": 7,
   "metadata": {},
   "outputs": [],
   "source": [
    "#Get Accuracy using cross validation\n",
    "from sklearn.model_selection import cross_val_score\n",
    "#accuracy 평가하는 함수\n",
    "def display_scores(scores):\n",
    "    print(\"Scores:\", scores)\n",
    "    print(\"Mean:\", scores.mean())\n",
    "    print(\"Standard deviation:\", scores.std())"
   ]
  },
  {
   "cell_type": "code",
   "execution_count": 8,
   "metadata": {},
   "outputs": [
    {
     "name": "stdout",
     "output_type": "stream",
     "text": [
      "Scores: [0.76923077 0.83333333 1.         0.91666667 0.66666667 0.83333333\n",
      " 0.75       1.         0.83333333 0.90909091]\n",
      "Mean: 0.851165501165501\n",
      "Standard deviation: 0.10192679193198635\n"
     ]
    }
   ],
   "source": [
    "#SGDclassifier cross_val\n",
    "sgd_score=cross_val_score(sgd_clf, X_train, y_train, cv=10, scoring=\"accuracy\")\n",
    "display_scores(sgd_score)"
   ]
  },
  {
   "cell_type": "code",
   "execution_count": 9,
   "metadata": {},
   "outputs": [
    {
     "name": "stdout",
     "output_type": "stream",
     "text": [
      "Scores: [0.92307692 1.         1.         1.         0.66666667 0.75\n",
      " 1.         1.         1.         0.90909091]\n",
      "Mean: 0.9248834498834497\n",
      "Standard deviation: 0.1146157810557605\n"
     ]
    }
   ],
   "source": [
    "#RandomForestclassifier cross_val\n",
    "forest_score=cross_val_score(forest_clf,X_train, y_train, cv=10, scoring=\"accuracy\")\n",
    "display_scores(forest_score)"
   ]
  },
  {
   "cell_type": "code",
   "execution_count": 10,
   "metadata": {},
   "outputs": [
    {
     "name": "stdout",
     "output_type": "stream",
     "text": [
      "Scores: [0.92307692 1.         1.         1.         0.75       0.83333333\n",
      " 1.         1.         1.         0.90909091]\n",
      "Mean: 0.9415501165501166\n",
      "Standard deviation: 0.08384241861847685\n"
     ]
    }
   ],
   "source": [
    "#k-NeighborsClassifier cross_val\n",
    "knb_score=cross_val_score(knb_clf,X_train, y_train, cv=10, scoring=\"accuracy\")\n",
    "display_scores(knb_score)"
   ]
  },
  {
   "cell_type": "markdown",
   "metadata": {},
   "source": [
    "## Step5. Find Hyper-Parameter using GridSearch"
   ]
  },
  {
   "cell_type": "code",
   "execution_count": 11,
   "metadata": {},
   "outputs": [],
   "source": [
    "#Grid Search\n",
    "from sklearn.model_selection import GridSearchCV\n",
    "param_grid_SGD=[\n",
    "    {'max_iter':[2,3],\n",
    "     'alpha':[0.0001,0.001,0.01,0.1,1]}\n",
    "]\n",
    "param_grid_forest=[\n",
    "    {'n_estimators':[1,10,100,1000,10000],\n",
    "     'max_depth':[1,3]}\n",
    "]\n",
    "param_grid_knb=[\n",
    "    {'n_neighbors':[1,5,10,15,20,25,30,35,40,45] }\n",
    "     #n_neighbors : int, optional (default = 5) -->Number of neighbors to use by default for kneighbors queries.\n",
    "]"
   ]
  },
  {
   "cell_type": "code",
   "execution_count": 12,
   "metadata": {},
   "outputs": [],
   "source": [
    "#Accuracy를 출력하는 함수\n",
    "def getAccuracy(grid):\n",
    "    cvres =grid.cv_results_\n",
    "    for mean_score, params in zip(cvres[\"mean_test_score\"], cvres[\"params\"]):\n",
    "        print(mean_score, params)\n",
    "    print('##########################################################')\n",
    "    print('Best hyperparameter: {}'.format(grid.best_params_))\n",
    "    print('Best accuracy of hyperparameter : {}'.format(grid.best_score_))"
   ]
  },
  {
   "cell_type": "code",
   "execution_count": 13,
   "metadata": {},
   "outputs": [
    {
     "name": "stdout",
     "output_type": "stream",
     "text": [
      "0.8 {'alpha': 0.0001, 'max_iter': 2}\n",
      "0.85 {'alpha': 0.0001, 'max_iter': 3}\n",
      "0.875 {'alpha': 0.001, 'max_iter': 2}\n",
      "0.85 {'alpha': 0.001, 'max_iter': 3}\n",
      "0.8666666666666667 {'alpha': 0.01, 'max_iter': 2}\n",
      "0.8333333333333334 {'alpha': 0.01, 'max_iter': 3}\n",
      "0.8166666666666667 {'alpha': 0.1, 'max_iter': 2}\n",
      "0.8166666666666667 {'alpha': 0.1, 'max_iter': 3}\n",
      "0.6916666666666667 {'alpha': 1, 'max_iter': 2}\n",
      "0.7 {'alpha': 1, 'max_iter': 3}\n",
      "##########################################################\n",
      "Best hyperparameter: {'alpha': 0.001, 'max_iter': 2}\n",
      "Best accuracy of hyperparameter : 0.875\n"
     ]
    },
    {
     "name": "stderr",
     "output_type": "stream",
     "text": [
      "D:\\Python\\anaconda\\lib\\site-packages\\sklearn\\model_selection\\_search.py:841: DeprecationWarning: The default of the `iid` parameter will change from True to False in version 0.22 and will be removed in 0.24. This will change numeric results when test-set sizes are unequal.\n",
      "  DeprecationWarning)\n"
     ]
    }
   ],
   "source": [
    "#SGD Classifier의 accuracy using Grid Search\n",
    "sgd_clf_1 = SGDClassifier(tol=-np.infty,random_state=42)\n",
    "grid_SGD =GridSearchCV(sgd_clf_1, param_grid_SGD, scoring='accuracy', cv=10, n_jobs=-1)\n",
    "grid_SGD.fit(X_train,y_train)\n",
    "getAccuracy(grid_SGD)"
   ]
  },
  {
   "cell_type": "code",
   "execution_count": 14,
   "metadata": {},
   "outputs": [
    {
     "name": "stdout",
     "output_type": "stream",
     "text": [
      "0.6666666666666666 {'max_depth': 1, 'n_estimators': 1}\n",
      "0.8 {'max_depth': 1, 'n_estimators': 10}\n",
      "0.8916666666666667 {'max_depth': 1, 'n_estimators': 100}\n",
      "0.9083333333333333 {'max_depth': 1, 'n_estimators': 1000}\n",
      "0.9083333333333333 {'max_depth': 1, 'n_estimators': 10000}\n",
      "0.9416666666666667 {'max_depth': 3, 'n_estimators': 1}\n",
      "0.9333333333333333 {'max_depth': 3, 'n_estimators': 10}\n",
      "0.9416666666666667 {'max_depth': 3, 'n_estimators': 100}\n",
      "0.9416666666666667 {'max_depth': 3, 'n_estimators': 1000}\n",
      "0.9416666666666667 {'max_depth': 3, 'n_estimators': 10000}\n",
      "##########################################################\n",
      "Best hyperparameter: {'max_depth': 3, 'n_estimators': 1}\n",
      "Best accuracy of hyperparameter : 0.9416666666666667\n"
     ]
    },
    {
     "name": "stderr",
     "output_type": "stream",
     "text": [
      "D:\\Python\\anaconda\\lib\\site-packages\\sklearn\\model_selection\\_search.py:841: DeprecationWarning: The default of the `iid` parameter will change from True to False in version 0.22 and will be removed in 0.24. This will change numeric results when test-set sizes are unequal.\n",
      "  DeprecationWarning)\n"
     ]
    }
   ],
   "source": [
    "#RandomForest Classifier의 accuracy using Grid Search\n",
    "forest_clf_1 =RandomForestClassifier(random_state=42)\n",
    "grid_forest = GridSearchCV(forest_clf_1, param_grid_forest, scoring='accuracy', cv=10, n_jobs=-1)\n",
    "grid_forest.fit(X_train,y_train)\n",
    "getAccuracy(grid_forest)"
   ]
  },
  {
   "cell_type": "code",
   "execution_count": 15,
   "metadata": {},
   "outputs": [
    {
     "name": "stdout",
     "output_type": "stream",
     "text": [
      "0.9416666666666667 {'n_neighbors': 1}\n",
      "0.9416666666666667 {'n_neighbors': 5}\n",
      "0.9416666666666667 {'n_neighbors': 10}\n",
      "0.95 {'n_neighbors': 15}\n",
      "0.9416666666666667 {'n_neighbors': 20}\n",
      "0.925 {'n_neighbors': 25}\n",
      "0.875 {'n_neighbors': 30}\n",
      "0.8583333333333333 {'n_neighbors': 35}\n",
      "0.8583333333333333 {'n_neighbors': 40}\n",
      "0.8416666666666667 {'n_neighbors': 45}\n",
      "##########################################################\n",
      "Best hyperparameter: {'n_neighbors': 15}\n",
      "Best accuracy of hyperparameter : 0.95\n"
     ]
    },
    {
     "name": "stderr",
     "output_type": "stream",
     "text": [
      "D:\\Python\\anaconda\\lib\\site-packages\\sklearn\\model_selection\\_search.py:841: DeprecationWarning: The default of the `iid` parameter will change from True to False in version 0.22 and will be removed in 0.24. This will change numeric results when test-set sizes are unequal.\n",
      "  DeprecationWarning)\n"
     ]
    }
   ],
   "source": [
    "#KNeighbors Classifier의 accuracy using Grid Search\n",
    "knb_clf_1 = KNeighborsClassifier()\n",
    "grid_knb =GridSearchCV(knb_clf_1, param_grid_knb, scoring='accuracy', cv=10, n_jobs=-1)\n",
    "grid_knb.fit(X_train,y_train)\n",
    "getAccuracy(grid_knb)"
   ]
  },
  {
   "cell_type": "markdown",
   "metadata": {},
   "source": [
    "## Step6. Find Hyper-Parameter using RandomizedSearch"
   ]
  },
  {
   "cell_type": "code",
   "execution_count": 25,
   "metadata": {
    "scrolled": true
   },
   "outputs": [],
   "source": [
    "#randomize search\n",
    "from sklearn.model_selection import RandomizedSearchCV\n",
    "from scipy.stats import randint\n",
    "import random\n",
    "param_distribs_SGD = {\n",
    "        'max_iter':randint(low=1,high=20),\n",
    "    }\n",
    "param_distribs_forest = {\n",
    "        'n_estimators': randint(low=1, high=200),\n",
    "        'max_depth': randint(low=1, high=3),\n",
    "    }\n",
    "param_distribs_knb = {\n",
    "        'n_neighbors':randint(low=1, high=95) }\n",
    "     #n_neighbors : int, optional (default = 5) -->Number of neighbors to use by default for kneighbors queries."
   ]
  },
  {
   "cell_type": "code",
   "execution_count": 22,
   "metadata": {},
   "outputs": [
    {
     "name": "stdout",
     "output_type": "stream",
     "text": [
      "0.875 {'max_iter': 7}\n",
      "0.9166666666666666 {'max_iter': 15}\n",
      "0.875 {'max_iter': 11}\n",
      "0.9166666666666666 {'max_iter': 8}\n",
      "0.875 {'max_iter': 7}\n",
      "0.9333333333333333 {'max_iter': 19}\n",
      "0.875 {'max_iter': 11}\n",
      "0.875 {'max_iter': 11}\n",
      "0.9 {'max_iter': 4}\n",
      "0.9166666666666666 {'max_iter': 8}\n",
      "##########################################################\n",
      "Best hyperparameter: {'max_iter': 19}\n",
      "Best accuracy of hyperparameter : 0.9333333333333333\n"
     ]
    },
    {
     "name": "stderr",
     "output_type": "stream",
     "text": [
      "D:\\Python\\anaconda\\lib\\site-packages\\sklearn\\model_selection\\_search.py:841: DeprecationWarning: The default of the `iid` parameter will change from True to False in version 0.22 and will be removed in 0.24. This will change numeric results when test-set sizes are unequal.\n",
      "  DeprecationWarning)\n"
     ]
    }
   ],
   "source": [
    "#SGD Classifier의 accuracy using Randomize Search\n",
    "rnd_SGD = RandomizedSearchCV(sgd_clf_1, param_distributions=param_distribs_SGD,\n",
    "                                n_iter=10, cv=5, scoring='accuracy', random_state=42)\n",
    "rnd_SGD.fit(X_train,y_train)\n",
    "getAccuracy(rnd_SGD)"
   ]
  },
  {
   "cell_type": "code",
   "execution_count": 23,
   "metadata": {},
   "outputs": [
    {
     "name": "stdout",
     "output_type": "stream",
     "text": [
      "0.8583333333333333 {'max_depth': 1, 'n_estimators': 180}\n",
      "0.9333333333333333 {'max_depth': 1, 'n_estimators': 15}\n",
      "0.8916666666666667 {'max_depth': 1, 'n_estimators': 72}\n",
      "0.8583333333333333 {'max_depth': 1, 'n_estimators': 21}\n",
      "0.8583333333333333 {'max_depth': 1, 'n_estimators': 122}\n",
      "0.8583333333333333 {'max_depth': 1, 'n_estimators': 75}\n",
      "0.8583333333333333 {'max_depth': 1, 'n_estimators': 88}\n",
      "0.8583333333333333 {'max_depth': 1, 'n_estimators': 100}\n",
      "0.9333333333333333 {'max_depth': 2, 'n_estimators': 152}\n",
      "0.9 {'max_depth': 1, 'n_estimators': 150}\n",
      "##########################################################\n",
      "Best hyperparameter: {'max_depth': 1, 'n_estimators': 15}\n",
      "Best accuracy of hyperparameter : 0.9333333333333333\n"
     ]
    },
    {
     "name": "stderr",
     "output_type": "stream",
     "text": [
      "D:\\Python\\anaconda\\lib\\site-packages\\sklearn\\model_selection\\_search.py:841: DeprecationWarning: The default of the `iid` parameter will change from True to False in version 0.22 and will be removed in 0.24. This will change numeric results when test-set sizes are unequal.\n",
      "  DeprecationWarning)\n"
     ]
    }
   ],
   "source": [
    "#RandomForest Classifier의 accuracy using Randomize Search\n",
    "rnd_forest = RandomizedSearchCV(forest_clf_1, param_distributions=param_distribs_forest,\n",
    "                                n_iter=10, cv=5, scoring='accuracy', random_state=42)\n",
    "rnd_forest.fit(X_train,y_train)\n",
    "getAccuracy(rnd_forest)"
   ]
  },
  {
   "cell_type": "code",
   "execution_count": 26,
   "metadata": {},
   "outputs": [
    {
     "name": "stdout",
     "output_type": "stream",
     "text": [
      "0.8083333333333333 {'n_neighbors': 52}\n",
      "0.4166666666666667 {'n_neighbors': 93}\n",
      "0.9583333333333334 {'n_neighbors': 15}\n",
      "0.6666666666666666 {'n_neighbors': 72}\n",
      "0.8166666666666667 {'n_neighbors': 61}\n",
      "0.9166666666666666 {'n_neighbors': 21}\n",
      "0.4583333333333333 {'n_neighbors': 83}\n",
      "0.43333333333333335 {'n_neighbors': 87}\n",
      "0.5666666666666667 {'n_neighbors': 75}\n",
      "0.5666666666666667 {'n_neighbors': 75}\n",
      "##########################################################\n",
      "Best hyperparameter: {'n_neighbors': 15}\n",
      "Best accuracy of hyperparameter : 0.9583333333333334\n"
     ]
    },
    {
     "name": "stderr",
     "output_type": "stream",
     "text": [
      "D:\\Python\\anaconda\\lib\\site-packages\\sklearn\\model_selection\\_search.py:841: DeprecationWarning: The default of the `iid` parameter will change from True to False in version 0.22 and will be removed in 0.24. This will change numeric results when test-set sizes are unequal.\n",
      "  DeprecationWarning)\n"
     ]
    }
   ],
   "source": [
    "#KNeighbors Classifier의 accuracy using Randomize Search\n",
    "rnd_knb = RandomizedSearchCV(knb_clf_1, param_distributions=param_distribs_knb,\n",
    "                                n_iter=10, cv=5, scoring='accuracy', random_state=42)\n",
    "rnd_knb.fit(X_train,y_train)\n",
    "getAccuracy(rnd_knb)"
   ]
  },
  {
   "cell_type": "markdown",
   "metadata": {},
   "source": [
    "## Step7. Calculate Precision and Recall"
   ]
  },
  {
   "cell_type": "code",
   "execution_count": 57,
   "metadata": {},
   "outputs": [],
   "source": [
    "#Calculate Precision and Recall\n",
    "from sklearn.metrics import precision_score,recall_score\n",
    "def getPR(classifier):\n",
    "    y_score = classifier.predict(X_test)\n",
    "    precision = precision_score(y_test, y_score,average='micro')\n",
    "    #Calculate metrics for each label, and find their unweighted mean. This does not take label imbalance into account.\n",
    "    recall =  recall_score(y_test, y_score,average='micro')\n",
    "    print('precision score: {}'.format(precision))\n",
    "    print('recall score: {}'.format(recall))"
   ]
  },
  {
   "cell_type": "code",
   "execution_count": 58,
   "metadata": {},
   "outputs": [
    {
     "name": "stdout",
     "output_type": "stream",
     "text": [
      "precision score: 0.9666666666666667\n",
      "recall score: 0.9666666666666667\n"
     ]
    }
   ],
   "source": [
    "getPR(sgd_clf)"
   ]
  },
  {
   "cell_type": "code",
   "execution_count": 59,
   "metadata": {},
   "outputs": [
    {
     "name": "stdout",
     "output_type": "stream",
     "text": [
      "precision score: 1.0\n",
      "recall score: 1.0\n"
     ]
    }
   ],
   "source": [
    "getPR(forest_clf)"
   ]
  },
  {
   "cell_type": "code",
   "execution_count": 61,
   "metadata": {},
   "outputs": [
    {
     "name": "stdout",
     "output_type": "stream",
     "text": [
      "precision score: 0.9666666666666667\n",
      "recall score: 0.9666666666666667\n"
     ]
    }
   ],
   "source": [
    "getPR(knb_clf)"
   ]
  }
 ],
 "metadata": {
  "kernelspec": {
   "display_name": "Python 3",
   "language": "python",
   "name": "python3"
  },
  "language_info": {
   "codemirror_mode": {
    "name": "ipython",
    "version": 3
   },
   "file_extension": ".py",
   "mimetype": "text/x-python",
   "name": "python",
   "nbconvert_exporter": "python",
   "pygments_lexer": "ipython3",
   "version": "3.6.7"
  }
 },
 "nbformat": 4,
 "nbformat_minor": 2
}
